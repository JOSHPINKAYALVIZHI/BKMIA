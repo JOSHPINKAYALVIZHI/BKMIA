{
  "nbformat": 4,
  "nbformat_minor": 0,
  "metadata": {
    "colab": {
      "provenance": [],
      "authorship_tag": "ABX9TyOEzN6jpWRQMj7RdImUibFU",
      "include_colab_link": true
    },
    "kernelspec": {
      "name": "python3",
      "display_name": "Python 3"
    },
    "language_info": {
      "name": "python"
    }
  },
  "cells": [
    {
      "cell_type": "markdown",
      "metadata": {
        "id": "view-in-github",
        "colab_type": "text"
      },
      "source": [
        "<a href=\"https://colab.research.google.com/github/JOSHPINKAYALVIZHI/BKMIA/blob/main/DAY_1_Gen_AI.ipynb\" target=\"_parent\"><img src=\"https://colab.research.google.com/assets/colab-badge.svg\" alt=\"Open In Colab\"/></a>"
      ]
    },
    {
      "cell_type": "code",
      "execution_count": null,
      "metadata": {
        "colab": {
          "base_uri": "https://localhost:8080/"
        },
        "id": "zsIsRn8MufNW",
        "outputId": "f3c06b87-105d-4fac-9995-3bf7abafc652"
      },
      "outputs": [
        {
          "output_type": "stream",
          "name": "stdout",
          "text": [
            "[1 2 3 4]\n"
          ]
        }
      ],
      "source": [
        "import numpy\n",
        "a=numpy.array([1,2,3,4])\n",
        "print(a)"
      ]
    },
    {
      "cell_type": "code",
      "source": [
        "import numpy\n",
        "a=numpy.arange(0,10,2)\n",
        "print(a)"
      ],
      "metadata": {
        "colab": {
          "base_uri": "https://localhost:8080/"
        },
        "id": "T61VFg060EKw",
        "outputId": "a81139b6-30c7-4628-a727-cd397ee27580"
      },
      "execution_count": null,
      "outputs": [
        {
          "output_type": "stream",
          "name": "stdout",
          "text": [
            "[0 2 4 6 8]\n"
          ]
        }
      ]
    },
    {
      "cell_type": "code",
      "source": [
        "import numpy\n",
        "a=numpy.ones([2,3])\n",
        "print(a)"
      ],
      "metadata": {
        "colab": {
          "base_uri": "https://localhost:8080/"
        },
        "id": "tANhppsf0c4R",
        "outputId": "72546302-b0eb-4cbb-f475-2f90435e467f"
      },
      "execution_count": null,
      "outputs": [
        {
          "output_type": "stream",
          "name": "stdout",
          "text": [
            "[[1. 1. 1.]\n",
            " [1. 1. 1.]]\n"
          ]
        }
      ]
    },
    {
      "cell_type": "code",
      "source": [
        "import numpy\n",
        "a=numpy.zeros([4,6])\n",
        "print(a)"
      ],
      "metadata": {
        "colab": {
          "base_uri": "https://localhost:8080/"
        },
        "id": "U1nms3OB0ms6",
        "outputId": "423969d9-5a9b-4efc-ae28-f80a0b675fd4"
      },
      "execution_count": null,
      "outputs": [
        {
          "output_type": "stream",
          "name": "stdout",
          "text": [
            "[[0. 0. 0. 0. 0. 0.]\n",
            " [0. 0. 0. 0. 0. 0.]\n",
            " [0. 0. 0. 0. 0. 0.]\n",
            " [0. 0. 0. 0. 0. 0.]]\n"
          ]
        }
      ]
    },
    {
      "cell_type": "code",
      "source": [
        "from numpy import ones\n",
        "a=ones([4,6])\n",
        "print(a)"
      ],
      "metadata": {
        "colab": {
          "base_uri": "https://localhost:8080/"
        },
        "id": "rRgbDY4A0wn_",
        "outputId": "3c05b74c-2dcf-495b-baef-bcc126eea17c"
      },
      "execution_count": null,
      "outputs": [
        {
          "output_type": "stream",
          "name": "stdout",
          "text": [
            "[[1. 1. 1. 1. 1. 1.]\n",
            " [1. 1. 1. 1. 1. 1.]\n",
            " [1. 1. 1. 1. 1. 1.]\n",
            " [1. 1. 1. 1. 1. 1.]]\n"
          ]
        }
      ]
    },
    {
      "cell_type": "code",
      "source": [
        "from numpy import arange\n",
        "a=numpy.arange(0,10,2)\n",
        "print(a)"
      ],
      "metadata": {
        "colab": {
          "base_uri": "https://localhost:8080/"
        },
        "id": "zKG3wm0a1WOL",
        "outputId": "a9b47057-b920-440c-9270-f105809dc74d"
      },
      "execution_count": null,
      "outputs": [
        {
          "output_type": "stream",
          "name": "stdout",
          "text": [
            "[0 2 4 6 8]\n"
          ]
        }
      ]
    },
    {
      "cell_type": "code",
      "source": [
        "%reset -f\n",
        "import numpy.linalg\n",
        "a=numpy.array([[1,2],[3,4]])\n",
        "b=numpy.linalg.inv(a)\n",
        "print(b)"
      ],
      "metadata": {
        "colab": {
          "base_uri": "https://localhost:8080/"
        },
        "id": "qaodJCdn2ehv",
        "outputId": "f4b54790-d603-45da-ff66-12d957b7c338"
      },
      "execution_count": null,
      "outputs": [
        {
          "output_type": "stream",
          "name": "stdout",
          "text": [
            "[[-2.   1. ]\n",
            " [ 1.5 -0.5]]\n"
          ]
        }
      ]
    },
    {
      "cell_type": "code",
      "source": [
        "import numpy\n",
        "c=numpy.array([[1,2],[3,4]])\n",
        "d=numpy.linalg.inv(a)\n",
        "print(d)"
      ],
      "metadata": {
        "colab": {
          "base_uri": "https://localhost:8080/"
        },
        "id": "sW4_Zgqw3dp3",
        "outputId": "8aef65bc-6709-4c86-cb94-add64ce9db25"
      },
      "execution_count": null,
      "outputs": [
        {
          "output_type": "stream",
          "name": "stdout",
          "text": [
            "[[-2.   1. ]\n",
            " [ 1.5 -0.5]]\n"
          ]
        }
      ]
    },
    {
      "cell_type": "code",
      "source": [],
      "metadata": {
        "id": "YnhhAYoe5R4d"
      },
      "execution_count": null,
      "outputs": []
    },
    {
      "cell_type": "code",
      "source": [
        "from numpy.random import rand\n",
        "c=rand(2,3)\n",
        "print(c)"
      ],
      "metadata": {
        "colab": {
          "base_uri": "https://localhost:8080/"
        },
        "outputId": "f1a12949-c7da-4cea-f1eb-273931b36f8b",
        "id": "D8a0ihc85uRU"
      },
      "execution_count": null,
      "outputs": [
        {
          "output_type": "stream",
          "name": "stdout",
          "text": [
            "[[0.69475463 0.64265794 0.00702577]\n",
            " [0.74797384 0.50917918 0.96249301]]\n"
          ]
        }
      ]
    },
    {
      "cell_type": "code",
      "source": [
        "import numpy.random\n",
        "a=numpy.random.rand(2,3)\n",
        "print(a)"
      ],
      "metadata": {
        "colab": {
          "base_uri": "https://localhost:8080/"
        },
        "id": "M0LRepsb6mAV",
        "outputId": "1253e290-9091-42d4-c727-05d099f97061"
      },
      "execution_count": null,
      "outputs": [
        {
          "output_type": "stream",
          "name": "stdout",
          "text": [
            "[[0.12614357 0.430739   0.94956943]\n",
            " [0.55623236 0.6590348  0.42589003]]\n"
          ]
        }
      ]
    },
    {
      "cell_type": "code",
      "source": [
        "import sklearn\n",
        "sklearn.show_versions"
      ],
      "metadata": {
        "colab": {
          "base_uri": "https://localhost:8080/",
          "height": 186
        },
        "id": "g79Yad1S631p",
        "outputId": "17c8bcb8-8a14-4933-a0d2-1298d5ffd275"
      },
      "execution_count": null,
      "outputs": [
        {
          "output_type": "execute_result",
          "data": {
            "text/plain": [
              "<function sklearn.utils._show_versions.show_versions()>"
            ],
            "text/html": [
              "<div style=\"max-width:800px; border: 1px solid var(--colab-border-color);\"><style>\n",
              "      pre.function-repr-contents {\n",
              "        overflow-x: auto;\n",
              "        padding: 8px 12px;\n",
              "        max-height: 500px;\n",
              "      }\n",
              "\n",
              "      pre.function-repr-contents.function-repr-contents-collapsed {\n",
              "        cursor: pointer;\n",
              "        max-height: 100px;\n",
              "      }\n",
              "    </style>\n",
              "    <pre style=\"white-space: initial; background:\n",
              "         var(--colab-secondary-surface-color); padding: 8px 12px;\n",
              "         border-bottom: 1px solid var(--colab-border-color);\"><b>sklearn.utils._show_versions.show_versions</b><br/>def show_versions()</pre><pre class=\"function-repr-contents function-repr-contents-collapsed\" style=\"\"><a class=\"filepath\" style=\"display:none\" href=\"#\">/usr/local/lib/python3.11/dist-packages/sklearn/utils/_show_versions.py</a>Print useful debugging information&quot;\n",
              "\n",
              ".. versionadded:: 0.20\n",
              "\n",
              "Examples\n",
              "--------\n",
              "&gt;&gt;&gt; from sklearn import show_versions\n",
              "&gt;&gt;&gt; show_versions()  # doctest: +SKIP</pre>\n",
              "      <script>\n",
              "      if (google.colab.kernel.accessAllowed && google.colab.files && google.colab.files.view) {\n",
              "        for (const element of document.querySelectorAll('.filepath')) {\n",
              "          element.style.display = 'block'\n",
              "          element.onclick = (event) => {\n",
              "            event.preventDefault();\n",
              "            event.stopPropagation();\n",
              "            google.colab.files.view(element.textContent, 77);\n",
              "          };\n",
              "        }\n",
              "      }\n",
              "      for (const element of document.querySelectorAll('.function-repr-contents')) {\n",
              "        element.onclick = (event) => {\n",
              "          event.preventDefault();\n",
              "          event.stopPropagation();\n",
              "          element.classList.toggle('function-repr-contents-collapsed');\n",
              "        };\n",
              "      }\n",
              "      </script>\n",
              "      </div>"
            ]
          },
          "metadata": {},
          "execution_count": 22
        }
      ]
    },
    {
      "cell_type": "code",
      "source": [
        "import sklearn\n",
        "a=sklearn.metrics.accuracy_score([1,1,0,0],[1,1,1,0])\n",
        "print(a)"
      ],
      "metadata": {
        "colab": {
          "base_uri": "https://localhost:8080/"
        },
        "id": "9RaTQ8Xt8CL1",
        "outputId": "5811d374-5ed0-4959-9bbe-39575f42b2ce"
      },
      "execution_count": null,
      "outputs": [
        {
          "output_type": "stream",
          "name": "stdout",
          "text": [
            "0.75\n"
          ]
        }
      ]
    },
    {
      "cell_type": "code",
      "source": [
        "import sklearn\n",
        "a=sklearn.metrics.accuracy_score([1,1,0,0],[1,1,0,0])\n",
        "sklearn.show_versions()\n",
        "print(a)"
      ],
      "metadata": {
        "colab": {
          "base_uri": "https://localhost:8080/"
        },
        "id": "1RRK9smzFgVY",
        "outputId": "6a3675be-f3ec-4ece-aedd-58e245ad4a21"
      },
      "execution_count": null,
      "outputs": [
        {
          "output_type": "stream",
          "name": "stdout",
          "text": [
            "\n",
            "System:\n",
            "    python: 3.11.13 (main, Jun  4 2025, 08:57:29) [GCC 11.4.0]\n",
            "executable: /usr/bin/python3\n",
            "   machine: Linux-6.1.123+-x86_64-with-glibc2.35\n",
            "\n",
            "Python dependencies:\n",
            "      sklearn: 1.6.1\n",
            "          pip: 24.1.2\n",
            "   setuptools: 75.2.0\n",
            "        numpy: 2.0.2\n",
            "        scipy: 1.16.1\n",
            "       Cython: 3.0.12\n",
            "       pandas: 2.2.2\n",
            "   matplotlib: 3.10.0\n",
            "       joblib: 1.5.1\n",
            "threadpoolctl: 3.6.0\n",
            "\n",
            "Built with OpenMP: True\n",
            "\n",
            "threadpoolctl info:\n",
            "       user_api: blas\n",
            "   internal_api: openblas\n",
            "    num_threads: 2\n",
            "         prefix: libscipy_openblas\n",
            "       filepath: /usr/local/lib/python3.11/dist-packages/numpy.libs/libscipy_openblas64_-99b71e71.so\n",
            "        version: 0.3.27\n",
            "threading_layer: pthreads\n",
            "   architecture: Haswell\n",
            "\n",
            "       user_api: blas\n",
            "   internal_api: openblas\n",
            "    num_threads: 2\n",
            "         prefix: libscipy_openblas\n",
            "       filepath: /usr/local/lib/python3.11/dist-packages/scipy.libs/libscipy_openblas-68440149.so\n",
            "        version: 0.3.28\n",
            "threading_layer: pthreads\n",
            "   architecture: Haswell\n",
            "\n",
            "       user_api: openmp\n",
            "   internal_api: openmp\n",
            "    num_threads: 2\n",
            "         prefix: libgomp\n",
            "       filepath: /usr/local/lib/python3.11/dist-packages/scikit_learn.libs/libgomp-a34b3233.so.1.0.0\n",
            "        version: None\n",
            "1.0\n"
          ]
        }
      ]
    },
    {
      "cell_type": "code",
      "source": [
        "from sklearn.metrics import accuracy_score\n",
        "c=accuracy_score([1,1,0,0],[0,0,1,1])\n",
        "print(c)"
      ],
      "metadata": {
        "colab": {
          "base_uri": "https://localhost:8080/"
        },
        "id": "iKSRxwTjFxen",
        "outputId": "b4798b75-e95c-4881-e032-70c54d3856f7"
      },
      "execution_count": null,
      "outputs": [
        {
          "output_type": "stream",
          "name": "stdout",
          "text": [
            "0.0\n"
          ]
        }
      ]
    },
    {
      "cell_type": "code",
      "source": [
        "import sklearn\n",
        "a=sklearn.metrics.accuracy_score([1,1,0,0],[1,1,1,0])\n",
        "sklearn.show_versions()\n",
        "print(a)"
      ],
      "metadata": {
        "colab": {
          "base_uri": "https://localhost:8080/"
        },
        "id": "Qnlmtj5hHRrp",
        "outputId": "b13bfc0a-4658-418b-e25e-505dc68db079"
      },
      "execution_count": null,
      "outputs": [
        {
          "output_type": "stream",
          "name": "stdout",
          "text": [
            "\n",
            "System:\n",
            "    python: 3.11.13 (main, Jun  4 2025, 08:57:29) [GCC 11.4.0]\n",
            "executable: /usr/bin/python3\n",
            "   machine: Linux-6.1.123+-x86_64-with-glibc2.35\n",
            "\n",
            "Python dependencies:\n",
            "      sklearn: 1.6.1\n",
            "          pip: 24.1.2\n",
            "   setuptools: 75.2.0\n",
            "        numpy: 2.0.2\n",
            "        scipy: 1.16.1\n",
            "       Cython: 3.0.12\n",
            "       pandas: 2.2.2\n",
            "   matplotlib: 3.10.0\n",
            "       joblib: 1.5.1\n",
            "threadpoolctl: 3.6.0\n",
            "\n",
            "Built with OpenMP: True\n",
            "\n",
            "threadpoolctl info:\n",
            "       user_api: blas\n",
            "   internal_api: openblas\n",
            "    num_threads: 2\n",
            "         prefix: libscipy_openblas\n",
            "       filepath: /usr/local/lib/python3.11/dist-packages/numpy.libs/libscipy_openblas64_-99b71e71.so\n",
            "        version: 0.3.27\n",
            "threading_layer: pthreads\n",
            "   architecture: Haswell\n",
            "\n",
            "       user_api: blas\n",
            "   internal_api: openblas\n",
            "    num_threads: 2\n",
            "         prefix: libscipy_openblas\n",
            "       filepath: /usr/local/lib/python3.11/dist-packages/scipy.libs/libscipy_openblas-68440149.so\n",
            "        version: 0.3.28\n",
            "threading_layer: pthreads\n",
            "   architecture: Haswell\n",
            "\n",
            "       user_api: openmp\n",
            "   internal_api: openmp\n",
            "    num_threads: 2\n",
            "         prefix: libgomp\n",
            "       filepath: /usr/local/lib/python3.11/dist-packages/scikit_learn.libs/libgomp-a34b3233.so.1.0.0\n",
            "        version: None\n",
            "0.75\n"
          ]
        }
      ]
    },
    {
      "cell_type": "code",
      "source": [
        "%reset -f\n",
        "import seaborn\n",
        "seaborn.scatterplot(x=[1,2,3],y=[5,8,9])"
      ],
      "metadata": {
        "colab": {
          "base_uri": "https://localhost:8080/",
          "height": 447
        },
        "id": "6hynvHE1Hhp6",
        "outputId": "4ab0349e-0ce1-4a6a-db72-9a7a5a8642f1"
      },
      "execution_count": null,
      "outputs": [
        {
          "output_type": "execute_result",
          "data": {
            "text/plain": [
              "<Axes: >"
            ]
          },
          "metadata": {},
          "execution_count": 35
        },
        {
          "output_type": "display_data",
          "data": {
            "text/plain": [
              "<Figure size 640x480 with 1 Axes>"
            ],
            "image/png": "[encoded data removed]"
          },
          "metadata": {}
        }
      ]
    },
    {
      "cell_type": "code",
      "source": [
        "%reset -f\n",
        "import seaborn.regression\n",
        "seaborn.regression.regplot(x=[1,2,3],y=[5,8,9])\n"
      ],
      "metadata": {
        "colab": {
          "base_uri": "https://localhost:8080/",
          "height": 447
        },
        "id": "LEOwTLn2JknS",
        "outputId": "9fc95740-4baa-4122-cbe9-cec1538a06ac"
      },
      "execution_count": null,
      "outputs": [
        {
          "output_type": "execute_result",
          "data": {
            "text/plain": [
              "<Axes: >"
            ]
          },
          "metadata": {},
          "execution_count": 36
        },
        {
          "output_type": "display_data",
          "data": {
            "text/plain": [
              "<Figure size 640x480 with 1 Axes>"
            ],
            "image/png": "[encoded data removed]"
          },
          "metadata": {}
        }
      ]
    },
    {
      "cell_type": "code",
      "source": [
        "import seaborn\n",
        "seaborn.regression.regplot(x=[1,2,3],y=[5,8,9])"
      ],
      "metadata": {
        "colab": {
          "base_uri": "https://localhost:8080/",
          "height": 447
        },
        "id": "67JFPsiOK0MR",
        "outputId": "d39a5540-2e15-4ebe-ee9e-630d0375b531"
      },
      "execution_count": null,
      "outputs": [
        {
          "output_type": "execute_result",
          "data": {
            "text/plain": [
              "<Axes: >"
            ]
          },
          "metadata": {},
          "execution_count": 37
        },
        {
          "output_type": "display_data",
          "data": {
            "text/plain": [
              "<Figure size 640x480 with 1 Axes>"
            ],
            "image/png": "[encoded data removed]"
          },
          "metadata": {}
        }
      ]
    },
    {
      "cell_type": "code",
      "source": [
        "%reset -f\n",
        "import pandas\n",
        "a=pandas.Series({'a':[1,2,3,4]})\n",
        "print(a)"
      ],
      "metadata": {
        "colab": {
          "base_uri": "https://localhost:8080/"
        },
        "id": "P95B97C3LGj9",
        "outputId": "beb385be-0ed6-42dd-b442-197ce9a26c8f"
      },
      "execution_count": null,
      "outputs": [
        {
          "output_type": "stream",
          "name": "stdout",
          "text": [
            "a    [1, 2, 3, 4]\n",
            "dtype: object\n"
          ]
        }
      ]
    },
    {
      "cell_type": "code",
      "source": [
        "import pandas\n",
        "a=pandas.DataFrame({'a':[1,2,3,4],'b':[4,5,6,7],'c':[1,4,5,6]})\n",
        "print(a)"
      ],
      "metadata": {
        "colab": {
          "base_uri": "https://localhost:8080/"
        },
        "id": "lGodYpTvLWuM",
        "outputId": "22c90bc8-0899-40b7-ef3a-d83afc78262f"
      },
      "execution_count": null,
      "outputs": [
        {
          "output_type": "stream",
          "name": "stdout",
          "text": [
            "   a  b  c\n",
            "0  1  4  1\n",
            "1  2  5  4\n",
            "2  3  6  5\n",
            "3  4  7  6\n"
          ]
        }
      ]
    },
    {
      "cell_type": "code",
      "source": [
        "%reset -f\n",
        "from pandas import Series\n",
        "a=Series({'a':[1,2,3,4]})\n",
        "print(a)\n"
      ],
      "metadata": {
        "colab": {
          "base_uri": "https://localhost:8080/"
        },
        "id": "mjy5qG76MB1H",
        "outputId": "fa2a7144-9c80-4b52-f7ed-21332c06296c"
      },
      "execution_count": null,
      "outputs": [
        {
          "output_type": "stream",
          "name": "stdout",
          "text": [
            "a    [1, 2, 3, 4]\n",
            "dtype: object\n"
          ]
        }
      ]
    },
    {
      "cell_type": "code",
      "source": [
        "from pandas import DataFrame\n",
        "a=DataFrame({'a':[1,2,3,4],'b':[4,5,6,7],'c':[1,4,5,6]})\n",
        "print(a)\n"
      ],
      "metadata": {
        "colab": {
          "base_uri": "https://localhost:8080/"
        },
        "id": "A68QBynpM42f",
        "outputId": "f73290da-ce55-4573-fa81-426a16a407db"
      },
      "execution_count": null,
      "outputs": [
        {
          "output_type": "stream",
          "name": "stdout",
          "text": [
            "   a  b  c\n",
            "0  1  4  1\n",
            "1  2  5  4\n",
            "2  3  6  5\n",
            "3  4  7  6\n"
          ]
        }
      ]
    },
    {
      "cell_type": "code",
      "source": [
        "%reset -f\n",
        "import numpy\n",
        "a=numpy.array([1,2,3,4])\n",
        "print(type(a))\n",
        "print(a.size)\n",
        "print(a.ndim)\n",
        "print(a.mean())\n",
        "print(a.sum)"
      ],
      "metadata": {
        "colab": {
          "base_uri": "https://localhost:8080/"
        },
        "id": "D9RxUNzCOD6S",
        "outputId": "e9d6add4-a73e-4cac-a8d2-5c6806f03b9c"
      },
      "execution_count": null,
      "outputs": [
        {
          "output_type": "stream",
          "name": "stdout",
          "text": [
            "<class 'numpy.ndarray'>\n",
            "4\n",
            "1\n",
            "2.5\n",
            "<built-in method sum of numpy.ndarray object at 0x7976a7962f10>\n"
          ]
        }
      ]
    },
    {
      "cell_type": "code",
      "source": [
        "import pandas\n",
        "a=pandas.Series()\n",
        "print(type(a))"
      ],
      "metadata": {
        "colab": {
          "base_uri": "https://localhost:8080/"
        },
        "id": "nni7x7o0Qqt_",
        "outputId": "29ed3b63-af13-4466-a95b-d10fb731763c"
      },
      "execution_count": null,
      "outputs": [
        {
          "output_type": "stream",
          "name": "stdout",
          "text": [
            "<class 'pandas.core.series.Series'>\n"
          ]
        }
      ]
    },
    {
      "cell_type": "code",
      "source": [],
      "metadata": {
        "id": "mhAwLZZDQ6Bx"
      },
      "execution_count": null,
      "outputs": []
    }
  ]
}